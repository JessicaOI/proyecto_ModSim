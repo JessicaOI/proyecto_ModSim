{
 "cells": [
  {
   "cell_type": "markdown",
   "metadata": {},
   "source": [
    "1. Descripción del Problema (Investigación)\n",
    "\n",
    "    Objetivo: Desarrollar un modelo que simule la propagación de una enfermedad infecciosa en una población determinada.\n",
    "    Justificación: Entender cómo se propaga una enfermedad puede ayudar a tomar decisiones informadas sobre medidas de salud pública, como vacunación, cuarentenas, o restricciones de movilidad.\n",
    "\n",
    "2. Técnica Utilizada (Aplicación)\n",
    "\n",
    "    Modelo Epidemiológico: Usaremos el modelo SIR, que divide la población en tres categorías: Susceptible (S), Infectado (I), y Recuperado (R).\n",
    "    Parámetros Clave: Tasa de transmisión, tasa de recuperación, y población inicial en cada categoría.\n",
    "\n",
    "3. Implementación (Solución)\n",
    "\n",
    "    Construcción del Modelo: Crearemos un modelo matemático basado en ecuaciones diferenciales que describan la transición entre los estados S, I, y R.\n",
    "    Simulación: Realizaremos simulaciones variando los parámetros clave para observar diferentes escenarios de propagación.\n",
    "\n",
    "4. Calibración y Validación\n",
    "\n",
    "    Calibración: Ajustaremos los parámetros del modelo utilizando datos reales de un brote de enfermedad específico.\n",
    "    Validación: Compararemos las predicciones del modelo con los datos reales para evaluar su precisión.\n",
    "\n",
    "5. Análisis de Sensibilidad\n",
    "\n",
    "    Objetivo: Determinar cómo la variación en los parámetros afecta los resultados del modelo.\n",
    "    Método: Variaremos sistemáticamente los parámetros (como la tasa de transmisión) y observaremos los cambios en la dinámica de la epidemia.\n",
    "\n",
    "6. Recomendaciones (Reflexión)\n",
    "\n",
    "    Aplicaciones del Modelo: Ofreceremos recomendaciones sobre cómo utilizar el modelo para apoyar la toma de decisiones en salud pública.\n",
    "    Limitaciones y Mejoras Futuras: Discutiremos las limitaciones del modelo y posibles extensiones o mejoras."
   ]
  }
 ],
 "metadata": {
  "language_info": {
   "name": "python"
  }
 },
 "nbformat": 4,
 "nbformat_minor": 2
}
